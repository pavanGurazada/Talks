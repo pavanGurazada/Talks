{
 "cells": [
  {
   "cell_type": "markdown",
   "metadata": {},
   "source": [
    "# Do influentials drive large post diffusions?"
   ]
  },
  {
   "cell_type": "markdown",
   "metadata": {},
   "source": [
    "### Our hypothesis\n",
    "\n",
    "**Law of the Few** If a few specific set of people endorse our post, the chance of exponential success is higher\n"
   ]
  },
  {
   "cell_type": "code",
   "execution_count": 8,
   "metadata": {},
   "outputs": [
    {
     "data": {
      "text/plain": [
       "MersenneTwister(UInt32[0x01332bfa], Base.dSFMT.DSFMT_state(Int32[-1772545288, 1073534108, 1077066014, 1072915095, -2146195133, 1072843413, 301764553, 1073404181, 750472136, 1073628106  …  -1491411563, 1073194977, 716119449, 1072893711, 1632331784, 758890923, 1433693833, -13012230, 382, 0]), [1.36441, 1.52387, 1.89173, 1.62463, 1.45305, 1.46875, 1.79658, 1.04989, 1.38748, 1.26837  …  1.7184, 1.96956, 1.00141, 1.49897, 1.8117, 1.30385, 1.90919, 1.81893, 1.70036, 1.92811], 382)"
      ]
     },
     "execution_count": 8,
     "metadata": {},
     "output_type": "execute_result"
    }
   ],
   "source": [
    "using Distributions, LightGraphs, ProgressMeter\n",
    "\n",
    "using DataFrames, RCall\n",
    "\n",
    "srand(20130810)"
   ]
  },
  {
   "cell_type": "markdown",
   "metadata": {},
   "source": [
    "Before we begin our exploration, it is instructive to look at the degree distribution of the underlying network on which we simulate the diffusion process. At the outset, note that we focus only on networks that have a power law distribution of node degrees in this workbook. This means that while most nodes have a small degree, there is a finite probability that some nodes have very high degree. We note that several empirical network distributions (hosted at http://konect.uni-koblenz.de/plots/degree_distribution) are networks with heavy-tailed distributions. In this context, our assumption of power law distribution of degrees is not way off-mark."
   ]
  },
  {
   "cell_type": "markdown",
   "metadata": {},
   "source": [
    "Let us begin by plotting degree distributions of a few Barabasi-Albert graphs using the builtin graph generator from LightGraphs. First, notice the correspondence between the inputs to the graph generator and the average degree of the graph "
   ]
  },
  {
   "cell_type": "code",
   "execution_count": 9,
   "metadata": {},
   "outputs": [
    {
     "data": {
      "text/html": [
       "10000"
      ],
      "text/plain": [
       "10000"
      ]
     },
     "execution_count": 9,
     "metadata": {},
     "output_type": "execute_result"
    }
   ],
   "source": [
    "N = 10^4 # Number of nodes in the network"
   ]
  },
  {
   "cell_type": "code",
   "execution_count": 10,
   "metadata": {},
   "outputs": [
    {
     "ename": "LoadError",
     "evalue": "REvalError: Error in library(ggplot2) : there is no package called ‘ggplot2’",
     "output_type": "error",
     "traceback": [
      "REvalError: Error in library(ggplot2) : there is no package called ‘ggplot2’",
      "",
      "Stacktrace:",
      " [1] \u001b[1m#handle_eval_stderr#79\u001b[22m\u001b[22m\u001b[1m(\u001b[22m\u001b[22m::Bool, ::Function\u001b[1m)\u001b[22m\u001b[22m at \u001b[1m/home/pgurazada/juliapro/JuliaPro-0.6.2.2/JuliaPro/pkgs-0.6.2.2/v0.6/RCall/src/io.jl:111\u001b[22m\u001b[22m",
      " [2] \u001b[1m(::RCall.#kw##handle_eval_stderr)\u001b[22m\u001b[22m\u001b[1m(\u001b[22m\u001b[22m::Array{Any,1}, ::RCall.#handle_eval_stderr\u001b[1m)\u001b[22m\u001b[22m at \u001b[1m./<missing>:0\u001b[22m\u001b[22m",
      " [3] \u001b[1mreval_p\u001b[22m\u001b[22m\u001b[1m(\u001b[22m\u001b[22m::Ptr{RCall.LangSxp}, ::Ptr{RCall.EnvSxp}\u001b[1m)\u001b[22m\u001b[22m at \u001b[1m/home/pgurazada/juliapro/JuliaPro-0.6.2.2/JuliaPro/pkgs-0.6.2.2/v0.6/RCall/src/eval.jl:104\u001b[22m\u001b[22m",
      " [4] \u001b[1mreval_p\u001b[22m\u001b[22m\u001b[1m(\u001b[22m\u001b[22m::Ptr{RCall.ExprSxp}, ::Ptr{RCall.EnvSxp}\u001b[1m)\u001b[22m\u001b[22m at \u001b[1m/home/pgurazada/juliapro/JuliaPro-0.6.2.2/JuliaPro/pkgs-0.6.2.2/v0.6/RCall/src/eval.jl:120\u001b[22m\u001b[22m",
      " [5] \u001b[1mreval\u001b[22m\u001b[22m\u001b[1m(\u001b[22m\u001b[22m::String, ::RCall.RObject{RCall.EnvSxp}\u001b[1m)\u001b[22m\u001b[22m at \u001b[1m/home/pgurazada/juliapro/JuliaPro-0.6.2.2/JuliaPro/pkgs-0.6.2.2/v0.6/RCall/src/eval.jl:137\u001b[22m\u001b[22m",
      " [6] \u001b[1minclude_string\u001b[22m\u001b[22m\u001b[1m(\u001b[22m\u001b[22m::String, ::String\u001b[1m)\u001b[22m\u001b[22m at \u001b[1m./loading.jl:522\u001b[22m\u001b[22m"
     ]
    }
   ],
   "source": [
    "d1 = degree(barabasi_albert(N, 2))\n",
    "d2 = degree(barabasi_albert(N, 16))\n",
    "\n",
    "@rput d1 d2\n",
    "\n",
    "R\"\"\"\n",
    "library(ggplot2)\n",
    "library(gridExtra)\n",
    "\n",
    "theme_set(theme_bw())\n",
    "\n",
    "p1 = qplot(d1, geom = \"histogram\", bins = 100) + labs(x = \"Node degree\", title = \"Average degree = 4\")\n",
    "p2 = qplot(d2, geom = \"histogram\", bins = 100) + labs(x = \"Node degree\", title = \"Average degree = 32\")\n",
    "\n",
    "grid.arrange(p1, p2, nrow = 2)\n",
    "\"\"\""
   ]
  },
  {
   "cell_type": "markdown",
   "metadata": {},
   "source": [
    "## Model\n",
    "\n",
    "We model the impact of seeding to specific individuals by running diffusion simulations in two scenarios. In the first scenario, we seed the simulation by activating a randomly chosen node from the network. In the second scenario, we seed the most connected node (i.e., highest degree) in the network.    \n",
    "\n",
    "We make the following assumptions on the decision making behavior of the nodes in a network:\n",
    "\n",
    " - A node in a graph is faced with a binary decision - to engage or to not engage (e.g., with new products or discussions with friends)\n",
    " - They make this decision based on a simple rule - they compute the fraction of their neighbors that have engaged, compare it with their personal threshold, and engage if the fraction of engaged neighbors exceeds the threshold. \n",
    " - The execution of this model is random and asynchronous, i.e., each node checks the status of its neighbors in a random order and decides whether to engage or not depending on the fraction of neighbors engaged at that point\n",
    " \n",
    " > \"If at least 18% of my friends bought the new iPhone, I would want to buy it too\""
   ]
  },
  {
   "cell_type": "code",
   "execution_count": 4,
   "metadata": {},
   "outputs": [
    {
     "data": {
      "text/plain": [
       "fraction_engaged (generic function with 1 method)"
      ]
     },
     "execution_count": 4,
     "metadata": {},
     "output_type": "execute_result"
    }
   ],
   "source": [
    "function fraction_engaged(node::Int,\n",
    "                          G::LightGraphs.SimpleGraphs.SimpleGraph,\n",
    "                          node_status::BitArray)\n",
    "\n",
    "    \"\"\"\n",
    "    Computes the fraction of neighbors engaged within the neighborhood\n",
    "    of a given node. It uses the node status to check the engagement status of\n",
    "    each of the nodes neighbors\n",
    "    \"\"\"\n",
    "    num_engaged = sum([node_status[nbr] for nbr in neighbors(G, node)])\n",
    "    \n",
    "    return num_engaged/length(neighbors(G, node))\n",
    "end"
   ]
  },
  {
   "cell_type": "code",
   "execution_count": 5,
   "metadata": {},
   "outputs": [
    {
     "data": {
      "text/plain": [
       "update_node_status (generic function with 1 method)"
      ]
     },
     "execution_count": 5,
     "metadata": {},
     "output_type": "execute_result"
    }
   ],
   "source": [
    "function update_node_status(G::LightGraphs.SimpleGraphs.SimpleGraph,\n",
    "                            node_status::BitArray,\n",
    "                            threshold::Vector{Float64})\n",
    "    \"\"\"\n",
    "    This function executes the random asynchronous updates of the entire network\n",
    "    at each time step. In this conceptualization, each time step comprises mini\n",
    "    time steps during which a randomly shuffled node list updates.    \n",
    "    We store a copy of the node status before the updation. This helps to compare\n",
    "    precisely what changed in the updation\n",
    "    \"\"\"\n",
    "    old_status = copy(node_status)\n",
    "\n",
    "    for node in shuffle(vertices(G))\n",
    "        if node_status[node] == false\n",
    "            if fraction_engaged(node, G, node_status) > threshold[node]\n",
    "                node_status[node] = true\n",
    "            end\n",
    "        end\n",
    "    end\n",
    "\n",
    "    return node_status, old_status\n",
    "end"
   ]
  },
  {
   "cell_type": "code",
   "execution_count": 6,
   "metadata": {},
   "outputs": [
    {
     "ename": "LoadError",
     "evalue": "\u001b[91mUndefVarError: @showprogress not defined\u001b[39m",
     "output_type": "error",
     "traceback": [
      "\u001b[91mUndefVarError: @showprogress not defined\u001b[39m",
      "",
      "Stacktrace:",
      " [1] \u001b[1minclude_string\u001b[22m\u001b[22m\u001b[1m(\u001b[22m\u001b[22m::String, ::String\u001b[1m)\u001b[22m\u001b[22m at \u001b[1m./loading.jl:522\u001b[22m\u001b[22m"
     ]
    }
   ],
   "source": [
    "function diffusion_simulation(n::Int,\n",
    "                              z::Int,\n",
    "                              threshold::Vector{Float64},\n",
    "                              n_realizations::Int)\n",
    "    \"\"\"\n",
    "    Create a new Barabasi-Albert graph at each realization. This represents a power law distribution of node degrees and is \n",
    "    supposed to be reflective of the influence distribution among the nodes in the network.\n",
    "    Two kinds of seeding is conducted - seeding the most influential person in the network (e.g., one with maximum degree) \n",
    "    and a randomly chosen person in the network.\n",
    "    The network then updates till no new node activations are possible at this configuration of the network \n",
    "    and the threshold. \n",
    "    The simulation is executed a large number of times and the cumulative number of activations is counted for each case.\n",
    "    \n",
    "    Hyper Parameters of the model\n",
    "    ----------\n",
    "    1. Number of nodes in the Barabasi-Albert graph (n)\n",
    "    2. Average degree (z)\n",
    "    3. Threshold (distribution or a specific value)\n",
    "    4. Number of realizations\n",
    "\n",
    "    Output\n",
    "    -----------\n",
    "    A matrix of number of activations in random and influential seeding and time steps to stability for each case at the \n",
    "    end of each realization of the simulation\n",
    "\n",
    "    \"\"\"\n",
    "    output = DataFrame(z = Int[], phi = Float64[], \n",
    "                       random_engaged = Int[], random_time = Int[], \n",
    "                       influential_engaged = Int[], influential_time = Int[])\n",
    "    \n",
    "    k = floor(Int, z/2) # Reason out why this relationship should be true \n",
    "\n",
    "    @showprogress 1 \"Simulating ...\" for r in 1:n_realizations\n",
    "        G = barabasi_albert(n, k) # represents the influence distribution\n",
    "        \n",
    "        # Step 1: Explore cascades triggered by random seed\n",
    "        \n",
    "        # Select a single random node from the network and seed it\n",
    "        node_status = falses(nv(G))\n",
    "        node_status[sample(vertices(G))] = true\n",
    "        \n",
    "        t = 1\n",
    "        new_node_status, node_status = update_node_status(G, node_status, threshold)\n",
    "        \n",
    "        # Keep updating node status till there are more nodes to activate\n",
    "        # This requires us to keep storing the node status vector from one iteration before\n",
    "        # for comparison. As long as there are more nodes that can be activated, i.e., cascade has not ended, \n",
    "        # we keep updating the nodes and incrementing the time steps\n",
    "        \n",
    "        while !isequal(new_node_status, node_status)\n",
    "            node_status = new_node_status\n",
    "            new_node_status, node_status = update_node_status(G, node_status, threshold)\n",
    "            t += 1\n",
    "        end\n",
    "        \n",
    "        random_activations, random_timesteps = sum(node_status), t\n",
    "        \n",
    "        # Step 2: Explore cascades triggered by most connected seed \n",
    "\n",
    "        # Select the node with highest degree and seed it\n",
    "        # This can be easily modified to rank nodes by other centrality measures\n",
    "        node_status = falses(nv(G))\n",
    "        seed = sortperm(degree_centrality(G), rev=true)[1]\n",
    "        node_status[seed] = true\n",
    "        \n",
    "        t = 1\n",
    "        new_node_status, node_status = update_node_status(G, node_status, threshold)\n",
    "        \n",
    "        # Keep updating node status till there are more nodes to activate\n",
    " \n",
    "        while !isequal(new_node_status, node_status)\n",
    "            node_status = new_node_status\n",
    "            new_node_status, node_status = update_node_status(G, node_status, threshold)\n",
    "            t += 1\n",
    "        end\n",
    "        \n",
    "        influential_activations, influential_timesteps = sum(node_status), t\n",
    "        \n",
    "        push!(output, [z, threshold[1], random_activations, random_timesteps, influential_activations, influential_timesteps])\n",
    "    end\n",
    "\n",
    "    return output\n",
    "\n",
    "end"
   ]
  },
  {
   "cell_type": "markdown",
   "metadata": {},
   "source": [
    "## Results \n",
    "\n",
    "We can run the diffusion simulations on the parameter space $(z, \\phi)$ where z is the average degree of the network and $\\phi$ is the threshold distribution of the nodes in the network. We vary the average degree of the nodes and create several network structures in the process. The threshold distribution can be assumed to be uniform or drawn from a specific probability distribution. \n",
    "\n",
    "To illustrate this process, we run the diffusion simulations on 4 pairs of $(z, \\phi)$: (4, 0.1), (4, 0.4), (100, 0.1), (100, 0.4). These pairs are reflective of a factorial design with high/low values for network degree and node thresholds. we run the simulations for 100 values at each pair. Of course, we make the simplifying assumption that all nodes in the newtork have the same threshold for activation."
   ]
  },
  {
   "cell_type": "code",
   "execution_count": null,
   "metadata": {},
   "outputs": [],
   "source": [
    "data1 = diffusion_simulation(N, 4, fill(0.1, N), 100); # (z, phi) = (4, 0.1) Low threshold, Low degree"
   ]
  },
  {
   "cell_type": "code",
   "execution_count": null,
   "metadata": {},
   "outputs": [],
   "source": [
    "data2 = diffusion_simulation(N, 4, fill(0.4, N), 100); # (z, phi) = (4, 0.4) Low degree, High threshold"
   ]
  },
  {
   "cell_type": "code",
   "execution_count": null,
   "metadata": {},
   "outputs": [],
   "source": [
    "data3 = diffusion_simulation(N, 100, fill(0.1, N), 100); # (z, phi) = (100, 0.1) High degree, Low threshold"
   ]
  },
  {
   "cell_type": "code",
   "execution_count": null,
   "metadata": {},
   "outputs": [],
   "source": [
    "data4 = diffusion_simulation(N, 100, fill(0.4, N), 100); # (z, phi) = (100, 0.4) High degree, High threshold"
   ]
  },
  {
   "cell_type": "code",
   "execution_count": null,
   "metadata": {},
   "outputs": [],
   "source": [
    "data = vcat(data1, data2, data3, data4)\n",
    "@rput data;"
   ]
  },
  {
   "cell_type": "code",
   "execution_count": null,
   "metadata": {},
   "outputs": [],
   "source": [
    "R\"\"\"\n",
    "library(dplyr)\n",
    "\n",
    "degree_effect = data %>% group_by(z) %>% summarize_all(funs(mean))\n",
    "threshold_effect = data %>% group_by(phi) %>% summarize_all(funs(mean))\n",
    "elevation = data %>% transmute(elevation = influential_engaged/random_engaged) %>% \n",
    "                     summarize(mean_elevation = mean(elevation))\n",
    "\n",
    "\"\"\"\n",
    "@rget degree_effect threshold_effect elevation;"
   ]
  },
  {
   "cell_type": "code",
   "execution_count": null,
   "metadata": {},
   "outputs": [],
   "source": [
    "elevation"
   ]
  },
  {
   "cell_type": "code",
   "execution_count": null,
   "metadata": {},
   "outputs": [],
   "source": [
    "degree_effect"
   ]
  },
  {
   "cell_type": "code",
   "execution_count": null,
   "metadata": {},
   "outputs": [],
   "source": [
    "threshold_effect"
   ]
  },
  {
   "cell_type": "markdown",
   "metadata": {},
   "source": [
    "If we look at the mean elevation across all the simulation runs on the sample space, it looks like influentials provide a big jump in elevation compared to average individuals. This is a big +1 for the *influential hypothesis*. A direct implication of this finding is that most marketing dollars should be directed towards identifying and 'influencing' the influencers. No wonder 'influencer marketing' was the buzz word for several years!  "
   ]
  },
  {
   "cell_type": "markdown",
   "metadata": {},
   "source": [
    "This is not the full picture though. Averages are severely misleading. A key idea of the Tipping Point is that these 'special' individuals are able to drive large swathes of ordinary individuals into adopting the idea because of their endorsement. Such large scale sequence of adoptions following a single adoption are called *cascades*. To be really effective, influentials should be able to drive cascades that are large not only on average, but also in scale. They have to be really, really, *really* big. The kind of big that poor ordinary individuals cannot generate, ever. These kind of super large cascades are called *global cascades*.  \n",
    "\n",
    "A reasonable definition of a *global cascade* is one that occupies at least 10% of the network (this is based on prior literaure, but of course it is up to you to pick a cut-off). For the 10,000 node network we consider in this notebook, global cascades are those that reach 1000 nodes. Let us now see how the influencers fare on this metric. "
   ]
  },
  {
   "cell_type": "code",
   "execution_count": null,
   "metadata": {},
   "outputs": [],
   "source": [
    "R\"\"\"\n",
    "rand_global_cascades <- data %>% filter(random_engaged > 1000) %>% count()\n",
    "influential_global_cascades <- data %>% filter(influential_engaged > 1000) %>% count()\n",
    "\n",
    "\"\"\"\n",
    "\n",
    "@rget rand_global_cascades influential_global_cascades;\n"
   ]
  },
  {
   "cell_type": "code",
   "execution_count": null,
   "metadata": {},
   "outputs": [],
   "source": [
    "rand_global_cascades"
   ]
  },
  {
   "cell_type": "code",
   "execution_count": null,
   "metadata": {},
   "outputs": [],
   "source": [
    "influential_global_cascades"
   ]
  }
 ],
 "metadata": {
  "kernelspec": {
   "display_name": "Julia 0.6.2",
   "language": "julia",
   "name": "julia-0.6"
  },
  "language_info": {
   "file_extension": ".jl",
   "mimetype": "application/julia",
   "name": "julia",
   "version": "0.6.2"
  }
 },
 "nbformat": 4,
 "nbformat_minor": 2
}
